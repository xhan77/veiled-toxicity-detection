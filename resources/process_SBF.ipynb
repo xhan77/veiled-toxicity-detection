{
 "cells": [
  {
   "cell_type": "code",
   "execution_count": 3,
   "metadata": {},
   "outputs": [],
   "source": [
    "%matplotlib inline\n",
    "import pandas as pd\n",
    "import pickle\n",
    "import re\n",
    "import time\n",
    "from collections import Counter, defaultdict\n",
    "import numpy as np\n",
    "import csv\n",
    "import random\n",
    "from scipy import stats\n",
    "from termcolor import colored\n",
    "import matplotlib\n",
    "import matplotlib.pyplot as plt\n",
    "import seaborn as sns"
   ]
  },
  {
   "cell_type": "code",
   "execution_count": 4,
   "metadata": {},
   "outputs": [],
   "source": [
    "# copied from https://github.com/Conway/perspective; the pip installation fails.\n",
    "\n",
    "import json\n",
    "import requests\n",
    "import warnings\n",
    "import markdown\n",
    "try:\n",
    "    from html.parser import HTMLParser\n",
    "except ImportError:\n",
    "    from HTMLParser import HTMLParser\n",
    "\n",
    "def validate_language(language):\n",
    "    # ISO 639-1 code validation\n",
    "    # language source: https://en.wikipedia.org/wiki/List_of_ISO_639-1_codes\n",
    "    codes = [\"ab\", \"aa\", \"ae\", \"af\", \"ak\", \"am\", \"an\", \"ar\", \"as\", \"av\", \"ay\",\n",
    "             \"az\", \"ba\", \"be\", \"bg\", \"bh\", \"bi\", \"bm\", \"bn\", \"bo\", \"br\", \"bs\",\n",
    "             \"ca\", \"ce\", \"ch\", \"co\", \"cr\", \"cs\", \"cu\", \"cv\", \"cy\", \"da\", \"de\",\n",
    "             \"dv\", \"dz\", \"ee\", \"el\", \"en\", \"eo\", \"es\", \"et\", \"eu\", \"fa\", \"ff\",\n",
    "             \"fi\", \"fj\", \"fo\", \"fr\", \"fy\", \"ga\", \"gd\", \"gl\", \"gn\", \"gu\", \"gv\",\n",
    "             \"ha\", \"he\", \"hi\", \"ho\", \"hr\", \"ht\", \"hu\", \"hy\", \"hz\", \"ia\", \"id\",\n",
    "             \"ie\", \"ig\", \"ii\", \"ik\", \"io\", \"is\", \"it\", \"iu\", \"ja\", \"jv\", \"ka\",\n",
    "             \"kg\", \"ki\", \"kj\", \"kk\", \"kl\", \"km\", \"kn\", \"ko\", \"kr\", \"ks\", \"ku\",\n",
    "             \"kv\", \"kw\", \"ky\", \"la\", \"lb\", \"lg\", \"li\", \"ln\", \"lo\", \"lt\", \"lu\",\n",
    "             \"lv\", \"mg\", \"mh\", \"mi\", \"mk\", \"ml\", \"mn\", \"mr\", \"ms\", \"mt\", \"my\",\n",
    "             \"na\", \"nb\", \"nd\", \"ne\", \"ng\", \"nl\", \"nn\", \"no\", \"nr\", \"nv\", \"ny\",\n",
    "             \"oc\", \"oj\", \"om\", \"or\", \"os\", \"pa\", \"pi\", \"ps\", \"pt\", \"qu\", \"rm\",\n",
    "             \"rn\", \"ro\", \"ru\", \"rw\", \"sa\", \"sc\", \"sd\", \"se\", \"sg\", \"si\", \"sk\",\n",
    "             \"sl\", \"sm\", \"sn\", \"so\", \"sq\", \"sr\", \"ss\", \"st\", \"su\", \"sv\", \"sw\",\n",
    "             \"ta\", \"te\", \"tg\", \"th\", \"ti\", \"tk\", \"tl\", \"tn\", \"to\", \"tr\", \"ts\",\n",
    "             \"tt\", \"tw\", \"ty\", \"ug\", \"uk\", \"ur\", \"uz\", \"ve\", \"vi\", \"vo\", \"wa\",\n",
    "             \"wo\", \"xh\", \"yi\", \"yo\", \"za\", \"zh\", \"zu\"]\n",
    "    return language.lower() in codes\n",
    "\n",
    "\n",
    "def remove_html(text, md=False):\n",
    "    if md:\n",
    "        text = markdown.markdown(text)\n",
    "    # credit: stackoverflow\n",
    "    class MLStripper(HTMLParser):\n",
    "        def __init__(self):\n",
    "            super().__init__()\n",
    "            self.reset()\n",
    "            self.strict = False\n",
    "            self.convert_charrefs= True\n",
    "            self.fed = []\n",
    "        def handle_data(self, d):\n",
    "            self.fed.append(d)\n",
    "        def get_data(self):\n",
    "            return ''.join(self.fed)\n",
    "\n",
    "    s = MLStripper()\n",
    "    s.feed(text)\n",
    "    return s.get_data()\n",
    "\n",
    "# allowed test types\n",
    "allowed = [\"TOXICITY\",\n",
    "           \"SEVERE_TOXICITY\",\n",
    "           \"TOXICITY_FAST\",\n",
    "           \"ATTACK_ON_AUTHOR\",\n",
    "           \"ATTACK_ON_COMMENTER\",\n",
    "           \"INCOHERENT\",\n",
    "           \"INFLAMMATORY\",\n",
    "           \"OBSCENE\",\n",
    "           \"OFF_TOPIC\",\n",
    "           \"UNSUBSTANTIAL\",\n",
    "           \"LIKELY_TO_REJECT\"]\n",
    "\n",
    "class Perspective(object):\n",
    "\n",
    "    base_url = \"https://commentanalyzer.googleapis.com/v1alpha1\"\n",
    "\n",
    "    def __init__(self, key):\n",
    "        self.key = key\n",
    "\n",
    "    def score(self, text, tests=[\"TOXICITY\"], context=None, languages=None, do_not_store=False, token=None, text_type=None):\n",
    "        # data validation\n",
    "        # make sure it's a valid test\n",
    "        # TODO: see if an endpoint that has valid types exists\n",
    "        if isinstance(tests, str):\n",
    "            tests = [tests]\n",
    "        if not isinstance(tests, (list, dict)) or tests is None:\n",
    "            raise ValueError(\"Invalid list/dictionary provided for tests\")\n",
    "        if isinstance(tests, list):\n",
    "            new_data = {}\n",
    "            for test in tests:\n",
    "                new_data[test] = {}\n",
    "            tests = new_data\n",
    "        if text_type:\n",
    "            if text_type.lower() == \"html\":\n",
    "                text = remove_html(text)\n",
    "            elif text_type.lower() == \"md\":\n",
    "                text = remove_html(text, md=True)\n",
    "            else:\n",
    "                raise ValueError(\"{0} is not a valid text_type. Valid options are 'html' or 'md'\".format(str(text_type)))\n",
    "\n",
    "        for test in tests.keys():\n",
    "            if test not in allowed:\n",
    "                warnings.warn(\"{0} might not be accepted as a valid test.\".format(str(test)))\n",
    "            for key in tests[test].keys():\n",
    "                if key not in [\"scoreType\", \"scoreThreshhold\"]:\n",
    "                    raise ValueError(\"{0} is not a valid sub-property for {1}\".format(key, test))\n",
    "\n",
    "        # The API will only grade text less than 3k characters long\n",
    "        if len(text) > 3000:\n",
    "            # TODO: allow disassembly/reassembly of >3000char comments\n",
    "            warnings.warn(\"Perspective only allows 3000 character strings. Only the first 3000 characters will be sent for processing\")\n",
    "            text = text[:3000]\n",
    "        new_langs = []\n",
    "        if languages:\n",
    "            for language in languages:\n",
    "                language = language.lower()\n",
    "                if validate_language(language):\n",
    "                    new_langs.append(language)\n",
    "\n",
    "        # packaging data\n",
    "        url = Perspective.base_url + \"/comments:analyze\"\n",
    "        querystring = {\"key\": self.key}\n",
    "        payload_data = {\"comment\": {\"text\": text}, \"requestedAttributes\": {}}\n",
    "        for test in tests.keys():\n",
    "            payload_data[\"requestedAttributes\"][test] = tests[test]\n",
    "        if new_langs != None:\n",
    "            payload_data[\"languages\"] = new_langs\n",
    "        if do_not_store:\n",
    "            payload_data[\"doNotStore\"] = do_not_store\n",
    "        payload = json.dumps(payload_data)\n",
    "        headers = {'content-type': \"application/json\"}\n",
    "        response = requests.post(url,\n",
    "                            data=payload,\n",
    "                            headers=headers,\n",
    "                            params=querystring)\n",
    "        data = response.json()\n",
    "        if \"error\" in data.keys():\n",
    "            raise PerspectiveAPIException(data[\"error\"][\"message\"])\n",
    "        c = Comment(text, [], token)\n",
    "        base = data[\"attributeScores\"]\n",
    "        for test in tests.keys():\n",
    "            score = base[test][\"summaryScore\"][\"value\"]\n",
    "            score_type = base[test][\"summaryScore\"][\"type\"]\n",
    "            a = Attribute(test, [], score, score_type)\n",
    "            for span in base[test][\"spanScores\"]:\n",
    "                beginning = span[\"begin\"]\n",
    "                end = span[\"end\"]\n",
    "                score = span[\"score\"][\"value\"]\n",
    "                score_type = span[\"score\"][\"type\"]\n",
    "                s = Span(beginning, end, score, score_type, c)\n",
    "                a.spans.append(s)\n",
    "            c.attributes.append(a)\n",
    "        return c\n",
    "\n",
    "class Comment(object):\n",
    "    def __init__(self, text, attributes, token):\n",
    "        self.text = text\n",
    "        self.attributes = attributes\n",
    "        self.token = token\n",
    "\n",
    "    def __getitem__(self, key):\n",
    "        if key.upper() not in allowed:\n",
    "            raise ValueError(\"value {0} does not exist\".format(key))\n",
    "        for attr in self.attributes:\n",
    "            if attr.name.lower() == key.lower():\n",
    "                return attr\n",
    "        raise ValueError(\"value {0} not found\".format(key))\n",
    "\n",
    "    def __str__(self):\n",
    "        return self.text\n",
    "\n",
    "    def __repr__(self):\n",
    "        count = 0\n",
    "        num = 0\n",
    "        for attr in self.attributes:\n",
    "            count += attr.score\n",
    "            num += 1\n",
    "        return \"<({0}) {1}>\".format(str(count/num), self.text)\n",
    "\n",
    "    def __iter__(self):\n",
    "        return iter(self.attributes)\n",
    "\n",
    "    def __len__(self):\n",
    "        return len(self.text)\n",
    "\n",
    "class Attribute(object):\n",
    "    def __init__(self, name, spans, score, score_type):\n",
    "        self.name = name\n",
    "        self.spans = spans\n",
    "        self.score = score\n",
    "        self.score_type = score_type\n",
    "\n",
    "    def __getitem__(self, index):\n",
    "        return self.spans[index]\n",
    "\n",
    "    def __iter__(self):\n",
    "        return iter(self.spans)\n",
    "\n",
    "class Span(object):\n",
    "    def __init__(self, begin, end, score, score_type, comment):\n",
    "        self.begin = begin\n",
    "        self.end = end\n",
    "        self.score = score\n",
    "        self.score_type = score_type\n",
    "        self.comment = comment\n",
    "\n",
    "    def __str__(self):\n",
    "        return self.comment.text[self.begin:self.end]\n",
    "\n",
    "    def __repr__(self):\n",
    "        return \"<({0}) {1}>\".format(self.score, self.comment.text[self.begin:self.end])\n",
    "\n",
    "class PerspectiveAPIException(Exception):\n",
    "    pass"
   ]
  },
  {
   "cell_type": "code",
   "execution_count": 15,
   "metadata": {},
   "outputs": [],
   "source": [
    "#from perspective.perspective import Perspective # after `pip install perspective`, might also need to manually put files from (https://github.com/Conway/perspective/tree/master/perspective) to your conda environment's site-packages folder. See the issue here (https://github.com/Conway/perspective/issues/9).\n",
    "# My API key\n",
    "papi = Perspective(None) # hidden, you might want to substitute with your own key"
   ]
  },
  {
   "cell_type": "code",
   "execution_count": 5,
   "metadata": {},
   "outputs": [],
   "source": [
    "_trndf = pd.read_csv(\"SBFv2.trn.csv\")\n",
    "_devdf = pd.read_csv(\"SBFv2.dev.csv\")\n",
    "_tstdf = pd.read_csv(\"SBFv2.tst.csv\")\n",
    "trndf = pd.concat([_trndf, _devdf, _tstdf], ignore_index=True)"
   ]
  },
  {
   "cell_type": "code",
   "execution_count": 6,
   "metadata": {},
   "outputs": [
    {
     "data": {
      "text/plain": [
       "147139"
      ]
     },
     "execution_count": 6,
     "metadata": {},
     "output_type": "execute_result"
    }
   ],
   "source": [
    "len(trndf)"
   ]
  },
  {
   "cell_type": "code",
   "execution_count": 7,
   "metadata": {},
   "outputs": [
    {
     "data": {
      "text/html": [
       "<div>\n",
       "<style scoped>\n",
       "    .dataframe tbody tr th:only-of-type {\n",
       "        vertical-align: middle;\n",
       "    }\n",
       "\n",
       "    .dataframe tbody tr th {\n",
       "        vertical-align: top;\n",
       "    }\n",
       "\n",
       "    .dataframe thead th {\n",
       "        text-align: right;\n",
       "    }\n",
       "</style>\n",
       "<table border=\"1\" class=\"dataframe\">\n",
       "  <thead>\n",
       "    <tr style=\"text-align: right;\">\n",
       "      <th></th>\n",
       "      <th>whoTarget</th>\n",
       "      <th>intentYN</th>\n",
       "      <th>sexYN</th>\n",
       "      <th>sexReason</th>\n",
       "      <th>offensiveYN</th>\n",
       "      <th>annotatorGender</th>\n",
       "      <th>annotatorMinority</th>\n",
       "      <th>sexPhrase</th>\n",
       "      <th>speakerMinorityYN</th>\n",
       "      <th>WorkerId</th>\n",
       "      <th>HITId</th>\n",
       "      <th>annotatorPolitics</th>\n",
       "      <th>annotatorRace</th>\n",
       "      <th>annotatorAge</th>\n",
       "      <th>post</th>\n",
       "      <th>targetMinority</th>\n",
       "      <th>targetCategory</th>\n",
       "      <th>targetStereotype</th>\n",
       "    </tr>\n",
       "  </thead>\n",
       "  <tbody>\n",
       "    <tr>\n",
       "      <th>0</th>\n",
       "      <td>0.0</td>\n",
       "      <td>0.66</td>\n",
       "      <td>0.0</td>\n",
       "      <td>NaN</td>\n",
       "      <td>1.0</td>\n",
       "      <td>woman</td>\n",
       "      <td>NaN</td>\n",
       "      <td>NaN</td>\n",
       "      <td>NaN</td>\n",
       "      <td>-8935932304856669427</td>\n",
       "      <td>363A7XIFV4G2799C5V96YERJA9AVAM</td>\n",
       "      <td>liberal</td>\n",
       "      <td>white</td>\n",
       "      <td>45.0</td>\n",
       "      <td>RT @_LexC__: I'm convinced that some of y'all ...</td>\n",
       "      <td>NaN</td>\n",
       "      <td>NaN</td>\n",
       "      <td>NaN</td>\n",
       "    </tr>\n",
       "    <tr>\n",
       "      <th>1</th>\n",
       "      <td>0.0</td>\n",
       "      <td>0.66</td>\n",
       "      <td>0.0</td>\n",
       "      <td>NaN</td>\n",
       "      <td>0.5</td>\n",
       "      <td>man</td>\n",
       "      <td>NaN</td>\n",
       "      <td>NaN</td>\n",
       "      <td>NaN</td>\n",
       "      <td>6347880360297734464</td>\n",
       "      <td>363A7XIFV4G2799C5V96YERJA9AVAM</td>\n",
       "      <td>mod-liberal</td>\n",
       "      <td>white</td>\n",
       "      <td>35.0</td>\n",
       "      <td>RT @_LexC__: I'm convinced that some of y'all ...</td>\n",
       "      <td>NaN</td>\n",
       "      <td>NaN</td>\n",
       "      <td>NaN</td>\n",
       "    </tr>\n",
       "    <tr>\n",
       "      <th>2</th>\n",
       "      <td>0.0</td>\n",
       "      <td>0.33</td>\n",
       "      <td>0.0</td>\n",
       "      <td>NaN</td>\n",
       "      <td>0.5</td>\n",
       "      <td>man</td>\n",
       "      <td>NaN</td>\n",
       "      <td>NaN</td>\n",
       "      <td>NaN</td>\n",
       "      <td>-7452610791699819066</td>\n",
       "      <td>363A7XIFV4G2799C5V96YERJA9AVAM</td>\n",
       "      <td>liberal</td>\n",
       "      <td>asian</td>\n",
       "      <td>23.0</td>\n",
       "      <td>RT @_LexC__: I'm convinced that some of y'all ...</td>\n",
       "      <td>NaN</td>\n",
       "      <td>NaN</td>\n",
       "      <td>NaN</td>\n",
       "    </tr>\n",
       "    <tr>\n",
       "      <th>3</th>\n",
       "      <td>1.0</td>\n",
       "      <td>1.00</td>\n",
       "      <td>0.0</td>\n",
       "      <td>NaN</td>\n",
       "      <td>1.0</td>\n",
       "      <td>man</td>\n",
       "      <td>NaN</td>\n",
       "      <td>NaN</td>\n",
       "      <td>0.0</td>\n",
       "      <td>-500114755446676507</td>\n",
       "      <td>3JTPR5MTZS6RLS3JBV4IOU0G2X35K5</td>\n",
       "      <td>liberal</td>\n",
       "      <td>white</td>\n",
       "      <td>25.0</td>\n",
       "      <td>RT @iBeZo: Stupid fucking nigger LeBron. You f...</td>\n",
       "      <td>black folks</td>\n",
       "      <td>race</td>\n",
       "      <td>all stupid</td>\n",
       "    </tr>\n",
       "    <tr>\n",
       "      <th>4</th>\n",
       "      <td>1.0</td>\n",
       "      <td>1.00</td>\n",
       "      <td>0.0</td>\n",
       "      <td>NaN</td>\n",
       "      <td>1.0</td>\n",
       "      <td>man</td>\n",
       "      <td>NaN</td>\n",
       "      <td>NaN</td>\n",
       "      <td>0.0</td>\n",
       "      <td>-500114755446676507</td>\n",
       "      <td>3JTPR5MTZS6RLS3JBV4IOU0G2X35K5</td>\n",
       "      <td>liberal</td>\n",
       "      <td>white</td>\n",
       "      <td>25.0</td>\n",
       "      <td>RT @iBeZo: Stupid fucking nigger LeBron. You f...</td>\n",
       "      <td>black folks</td>\n",
       "      <td>race</td>\n",
       "      <td>are not people but apes.</td>\n",
       "    </tr>\n",
       "    <tr>\n",
       "      <th>...</th>\n",
       "      <td>...</td>\n",
       "      <td>...</td>\n",
       "      <td>...</td>\n",
       "      <td>...</td>\n",
       "      <td>...</td>\n",
       "      <td>...</td>\n",
       "      <td>...</td>\n",
       "      <td>...</td>\n",
       "      <td>...</td>\n",
       "      <td>...</td>\n",
       "      <td>...</td>\n",
       "      <td>...</td>\n",
       "      <td>...</td>\n",
       "      <td>...</td>\n",
       "      <td>...</td>\n",
       "      <td>...</td>\n",
       "      <td>...</td>\n",
       "      <td>...</td>\n",
       "    </tr>\n",
       "    <tr>\n",
       "      <th>147134</th>\n",
       "      <td>1.0</td>\n",
       "      <td>0.00</td>\n",
       "      <td>0.0</td>\n",
       "      <td>NaN</td>\n",
       "      <td>1.0</td>\n",
       "      <td>man</td>\n",
       "      <td>NaN</td>\n",
       "      <td>NaN</td>\n",
       "      <td>0.0</td>\n",
       "      <td>7891575995618716029</td>\n",
       "      <td>39O6Z4JLX2RE3MH5G51KIM2HDSKXVR</td>\n",
       "      <td>mod-liberal</td>\n",
       "      <td>white</td>\n",
       "      <td>40.0</td>\n",
       "      <td>Minimum attractiveness to get women per height...</td>\n",
       "      <td>women</td>\n",
       "      <td>gender</td>\n",
       "      <td>women are shallow</td>\n",
       "    </tr>\n",
       "    <tr>\n",
       "      <th>147135</th>\n",
       "      <td>1.0</td>\n",
       "      <td>0.00</td>\n",
       "      <td>0.0</td>\n",
       "      <td>NaN</td>\n",
       "      <td>1.0</td>\n",
       "      <td>man</td>\n",
       "      <td>NaN</td>\n",
       "      <td>NaN</td>\n",
       "      <td>0.0</td>\n",
       "      <td>7891575995618716029</td>\n",
       "      <td>39O6Z4JLX2RE3MH5G51KIM2HDSKXVR</td>\n",
       "      <td>mod-liberal</td>\n",
       "      <td>white</td>\n",
       "      <td>40.0</td>\n",
       "      <td>Minimum attractiveness to get women per height...</td>\n",
       "      <td>women</td>\n",
       "      <td>gender</td>\n",
       "      <td>women care about a man's height</td>\n",
       "    </tr>\n",
       "    <tr>\n",
       "      <th>147136</th>\n",
       "      <td>0.0</td>\n",
       "      <td>1.00</td>\n",
       "      <td>0.0</td>\n",
       "      <td>NaN</td>\n",
       "      <td>1.0</td>\n",
       "      <td>man</td>\n",
       "      <td>NaN</td>\n",
       "      <td>NaN</td>\n",
       "      <td>NaN</td>\n",
       "      <td>7891575995618716029</td>\n",
       "      <td>3RDTX9JRTYVMR0YBVRSQW50WK7N79R</td>\n",
       "      <td>mod-liberal</td>\n",
       "      <td>white</td>\n",
       "      <td>40.0</td>\n",
       "      <td>Always remember, it was normies that enacted t...</td>\n",
       "      <td>NaN</td>\n",
       "      <td>NaN</td>\n",
       "      <td>NaN</td>\n",
       "    </tr>\n",
       "    <tr>\n",
       "      <th>147137</th>\n",
       "      <td>0.0</td>\n",
       "      <td>0.66</td>\n",
       "      <td>0.0</td>\n",
       "      <td>NaN</td>\n",
       "      <td>0.5</td>\n",
       "      <td>man</td>\n",
       "      <td>NaN</td>\n",
       "      <td>NaN</td>\n",
       "      <td>NaN</td>\n",
       "      <td>-7790343187498138255</td>\n",
       "      <td>3RDTX9JRTYVMR0YBVRSQW50WK7N79R</td>\n",
       "      <td>cons</td>\n",
       "      <td>white</td>\n",
       "      <td>49.0</td>\n",
       "      <td>Always remember, it was normies that enacted t...</td>\n",
       "      <td>NaN</td>\n",
       "      <td>NaN</td>\n",
       "      <td>NaN</td>\n",
       "    </tr>\n",
       "    <tr>\n",
       "      <th>147138</th>\n",
       "      <td>0.0</td>\n",
       "      <td>0.66</td>\n",
       "      <td>0.0</td>\n",
       "      <td>NaN</td>\n",
       "      <td>0.5</td>\n",
       "      <td>woman</td>\n",
       "      <td>NaN</td>\n",
       "      <td>NaN</td>\n",
       "      <td>NaN</td>\n",
       "      <td>1664464732976706798</td>\n",
       "      <td>3RDTX9JRTYVMR0YBVRSQW50WK7N79R</td>\n",
       "      <td>mod-cons</td>\n",
       "      <td>hisp</td>\n",
       "      <td>33.0</td>\n",
       "      <td>Always remember, it was normies that enacted t...</td>\n",
       "      <td>NaN</td>\n",
       "      <td>NaN</td>\n",
       "      <td>NaN</td>\n",
       "    </tr>\n",
       "  </tbody>\n",
       "</table>\n",
       "<p>147139 rows × 18 columns</p>\n",
       "</div>"
      ],
      "text/plain": [
       "        whoTarget  intentYN  sexYN sexReason  offensiveYN annotatorGender  \\\n",
       "0             0.0      0.66    0.0       NaN          1.0           woman   \n",
       "1             0.0      0.66    0.0       NaN          0.5             man   \n",
       "2             0.0      0.33    0.0       NaN          0.5             man   \n",
       "3             1.0      1.00    0.0       NaN          1.0             man   \n",
       "4             1.0      1.00    0.0       NaN          1.0             man   \n",
       "...           ...       ...    ...       ...          ...             ...   \n",
       "147134        1.0      0.00    0.0       NaN          1.0             man   \n",
       "147135        1.0      0.00    0.0       NaN          1.0             man   \n",
       "147136        0.0      1.00    0.0       NaN          1.0             man   \n",
       "147137        0.0      0.66    0.0       NaN          0.5             man   \n",
       "147138        0.0      0.66    0.0       NaN          0.5           woman   \n",
       "\n",
       "       annotatorMinority sexPhrase  speakerMinorityYN             WorkerId  \\\n",
       "0                    NaN       NaN                NaN -8935932304856669427   \n",
       "1                    NaN       NaN                NaN  6347880360297734464   \n",
       "2                    NaN       NaN                NaN -7452610791699819066   \n",
       "3                    NaN       NaN                0.0  -500114755446676507   \n",
       "4                    NaN       NaN                0.0  -500114755446676507   \n",
       "...                  ...       ...                ...                  ...   \n",
       "147134               NaN       NaN                0.0  7891575995618716029   \n",
       "147135               NaN       NaN                0.0  7891575995618716029   \n",
       "147136               NaN       NaN                NaN  7891575995618716029   \n",
       "147137               NaN       NaN                NaN -7790343187498138255   \n",
       "147138               NaN       NaN                NaN  1664464732976706798   \n",
       "\n",
       "                                 HITId annotatorPolitics annotatorRace  \\\n",
       "0       363A7XIFV4G2799C5V96YERJA9AVAM           liberal         white   \n",
       "1       363A7XIFV4G2799C5V96YERJA9AVAM       mod-liberal         white   \n",
       "2       363A7XIFV4G2799C5V96YERJA9AVAM           liberal         asian   \n",
       "3       3JTPR5MTZS6RLS3JBV4IOU0G2X35K5           liberal         white   \n",
       "4       3JTPR5MTZS6RLS3JBV4IOU0G2X35K5           liberal         white   \n",
       "...                                ...               ...           ...   \n",
       "147134  39O6Z4JLX2RE3MH5G51KIM2HDSKXVR       mod-liberal         white   \n",
       "147135  39O6Z4JLX2RE3MH5G51KIM2HDSKXVR       mod-liberal         white   \n",
       "147136  3RDTX9JRTYVMR0YBVRSQW50WK7N79R       mod-liberal         white   \n",
       "147137  3RDTX9JRTYVMR0YBVRSQW50WK7N79R              cons         white   \n",
       "147138  3RDTX9JRTYVMR0YBVRSQW50WK7N79R          mod-cons          hisp   \n",
       "\n",
       "        annotatorAge                                               post  \\\n",
       "0               45.0  RT @_LexC__: I'm convinced that some of y'all ...   \n",
       "1               35.0  RT @_LexC__: I'm convinced that some of y'all ...   \n",
       "2               23.0  RT @_LexC__: I'm convinced that some of y'all ...   \n",
       "3               25.0  RT @iBeZo: Stupid fucking nigger LeBron. You f...   \n",
       "4               25.0  RT @iBeZo: Stupid fucking nigger LeBron. You f...   \n",
       "...              ...                                                ...   \n",
       "147134          40.0  Minimum attractiveness to get women per height...   \n",
       "147135          40.0  Minimum attractiveness to get women per height...   \n",
       "147136          40.0  Always remember, it was normies that enacted t...   \n",
       "147137          49.0  Always remember, it was normies that enacted t...   \n",
       "147138          33.0  Always remember, it was normies that enacted t...   \n",
       "\n",
       "       targetMinority targetCategory                 targetStereotype  \n",
       "0                 NaN            NaN                              NaN  \n",
       "1                 NaN            NaN                              NaN  \n",
       "2                 NaN            NaN                              NaN  \n",
       "3         black folks           race                       all stupid  \n",
       "4         black folks           race         are not people but apes.  \n",
       "...               ...            ...                              ...  \n",
       "147134          women         gender                women are shallow  \n",
       "147135          women         gender  women care about a man's height  \n",
       "147136            NaN            NaN                              NaN  \n",
       "147137            NaN            NaN                              NaN  \n",
       "147138            NaN            NaN                              NaN  \n",
       "\n",
       "[147139 rows x 18 columns]"
      ]
     },
     "execution_count": 7,
     "metadata": {},
     "output_type": "execute_result"
    }
   ],
   "source": [
    "trndf"
   ]
  },
  {
   "cell_type": "raw",
   "metadata": {},
   "source": [
    "post2feats = dict()\n",
    "papi_cnt = 0\n",
    "\n",
    "for _post, _implication, _offense, _intent, _group, _category in zip(trndf['post'], trndf['targetStereotype'], trndf['offensiveYN'], trndf['intentYN'], trndf['targetMinority'], trndf['targetCategory']):\n",
    "    post = _post\n",
    "    post = re.sub(r'\\bRT\\b', ' ', post)\n",
    "    post = re.sub(r'@\\S+', ' ', post)\n",
    "    post = re.sub(r'http\\S+', ' ', post)\n",
    "    post = re.sub(r'&.*?;', '.', post)\n",
    "    if post not in post2feats.keys():\n",
    "        post2feats[post] = defaultdict(list)\n",
    "        post2feats[post]['toxicity'].append(papi.score(post, tests=[\"TOXICITY\"], languages=[\"en\"])[\"TOXICITY\"].score)\n",
    "        papi_cnt += 1\n",
    "        time.sleep(1.001)\n",
    "        if papi_cnt % 1000 == 0:\n",
    "            print(papi_cnt)\n",
    "        \n",
    "    if pd.isna(_implication):\n",
    "        implication = None\n",
    "    else:\n",
    "        implication = _implication\n",
    "    if pd.isna(_group):\n",
    "        group = None\n",
    "    else:\n",
    "        group = _group\n",
    "    if pd.isna(_category):\n",
    "        category = None\n",
    "    else:\n",
    "        category = _category\n",
    "    \n",
    "    post2feats[post]['offense'].append(_offense)\n",
    "    post2feats[post]['intent'].append(_intent)\n",
    "    post2feats[post]['group'].append(group)\n",
    "    post2feats[post]['category'].append(category)\n",
    "    post2feats[post]['implication'].append(implication)"
   ]
  },
  {
   "cell_type": "raw",
   "metadata": {},
   "source": [
    "pickle.dump(post2feats, open(\"post2feats.pkl\", 'wb'))"
   ]
  },
  {
   "cell_type": "code",
   "execution_count": 8,
   "metadata": {},
   "outputs": [],
   "source": [
    "post2feats = pickle.load(open(\"post2feats.pkl\", 'rb'))"
   ]
  },
  {
   "cell_type": "code",
   "execution_count": 9,
   "metadata": {},
   "outputs": [
    {
     "data": {
      "text/plain": [
       "44648"
      ]
     },
     "execution_count": 9,
     "metadata": {},
     "output_type": "execute_result"
    }
   ],
   "source": [
    "len(post2feats)"
   ]
  },
  {
   "cell_type": "code",
   "execution_count": 10,
   "metadata": {},
   "outputs": [
    {
     "data": {
      "text/plain": [
       "[('Normies living their lives and dreams while we are surviving just let caged animals\\nWhen will it stop?',\n",
       "  defaultdict(list,\n",
       "              {'toxicity': [0.43829006],\n",
       "               'offense': [1.0, 1.0, 0.0],\n",
       "               'intent': [1.0, 1.0, 0.0],\n",
       "               'group': [None, None, None],\n",
       "               'category': [None, None, None],\n",
       "               'implication': [None, None, None]})),\n",
       " (\"Minimum attractiveness to get women per height\\n6'6+ - 6/10\\n\\n6'4/6'5 - 5.5/10\\n\\n6'2/6'3 - 5/10\\n\\n6'1 - 5.5/10\\n\\n5'11/6'0 - 6/10\\n\\n5'10 - 7/10\\n\\n5'9 - 8/10\\n\\n5'8 - 9/10\\n\\n5'7 - 10/10\\n\\nIf you are below 5'7 you are automatically disqualified from attracting females\",\n",
       "  defaultdict(list,\n",
       "              {'toxicity': [0.199703],\n",
       "               'offense': [1.0, 1.0],\n",
       "               'intent': [0.0, 0.0],\n",
       "               'group': ['women', 'women'],\n",
       "               'category': ['gender', 'gender'],\n",
       "               'implication': ['women are shallow',\n",
       "                \"women care about a man's height\"]})),\n",
       " ('Always remember, it was normies that enacted the Holocaust, acted in the Slave Trade, and committed every atrocity in history\\nNormies are evil',\n",
       "  defaultdict(list,\n",
       "              {'toxicity': [0.381035],\n",
       "               'offense': [1.0, 0.5, 0.5],\n",
       "               'intent': [1.0, 0.66, 0.66],\n",
       "               'group': [None, None, None],\n",
       "               'category': [None, None, None],\n",
       "               'implication': [None, None, None]}))]"
      ]
     },
     "execution_count": 10,
     "metadata": {},
     "output_type": "execute_result"
    }
   ],
   "source": [
    "list(post2feats.items())[-3:]"
   ]
  },
  {
   "cell_type": "code",
   "execution_count": null,
   "metadata": {},
   "outputs": [],
   "source": []
  },
  {
   "cell_type": "code",
   "execution_count": 9,
   "metadata": {},
   "outputs": [],
   "source": [
    "raw_general_set = []\n",
    "\n",
    "with open('reddit/reddit_general.csv', newline='') as f:\n",
    "    reader = csv.reader(f, delimiter='\\t')\n",
    "    for i, row in enumerate(reader):\n",
    "        if i == 0 or len(row) == 0:\n",
    "            continue\n",
    "        try:\n",
    "            _ = int(row[0])\n",
    "            p = row[1]\n",
    "            p = re.sub(r'\\bRT\\b', ' ', p)\n",
    "            p = re.sub(r'@\\S+', ' ', p)\n",
    "            p = re.sub(r'http\\S+', ' ', p)\n",
    "            p = re.sub(r'&.*?;', '.', p)\n",
    "            if len(p) > 1000 or len(p) <= 2:\n",
    "                continue\n",
    "            raw_general_set.append(p)\n",
    "        except:\n",
    "            pass"
   ]
  },
  {
   "cell_type": "code",
   "execution_count": 10,
   "metadata": {},
   "outputs": [
    {
     "data": {
      "text/plain": [
       "204371"
      ]
     },
     "execution_count": 10,
     "metadata": {},
     "output_type": "execute_result"
    }
   ],
   "source": [
    "len(raw_general_set)"
   ]
  },
  {
   "cell_type": "code",
   "execution_count": 11,
   "metadata": {},
   "outputs": [],
   "source": [
    "random.seed(2020)\n",
    "sample_general_set = random.sample(raw_general_set, 10000) # large dict used 30000 sampled examples"
   ]
  },
  {
   "cell_type": "raw",
   "metadata": {},
   "source": [
    "true_general_toxicity_dict = dict()\n",
    "for _i, p in enumerate(sample_general_set):\n",
    "    true_general_toxicity_dict[p] = papi.score(p, tests=[\"TOXICITY\"], languages=[\"en\"])[\"TOXICITY\"].score\n",
    "    time.sleep(1.001)\n",
    "    if _i % 1000 == 0:\n",
    "        print(_i)"
   ]
  },
  {
   "cell_type": "raw",
   "metadata": {},
   "source": [
    "pickle.dump(true_general_toxicity_dict, open(\"true_general_matched_toxicity_dict.pkl\", 'wb'))"
   ]
  },
  {
   "cell_type": "code",
   "execution_count": 11,
   "metadata": {},
   "outputs": [],
   "source": [
    "true_general_toxicity_dict = pickle.load(open(\"true_general_matched_toxicity_dict.pkl\", 'rb'))"
   ]
  },
  {
   "cell_type": "code",
   "execution_count": 12,
   "metadata": {},
   "outputs": [
    {
     "data": {
      "text/plain": [
       "9306"
      ]
     },
     "execution_count": 12,
     "metadata": {},
     "output_type": "execute_result"
    }
   ],
   "source": [
    "len(true_general_toxicity_dict)"
   ]
  },
  {
   "cell_type": "code",
   "execution_count": 13,
   "metadata": {},
   "outputs": [
    {
     "data": {
      "text/plain": [
       "0.170922139927219"
      ]
     },
     "execution_count": 13,
     "metadata": {},
     "output_type": "execute_result"
    }
   ],
   "source": [
    "np.mean([v for k, v in true_general_toxicity_dict.items()])"
   ]
  },
  {
   "cell_type": "code",
   "execution_count": null,
   "metadata": {},
   "outputs": [],
   "source": []
  },
  {
   "cell_type": "code",
   "execution_count": 15,
   "metadata": {},
   "outputs": [
    {
     "data": {
      "text/plain": [
       "<matplotlib.axes._subplots.AxesSubplot at 0x7f5075ff1d10>"
      ]
     },
     "execution_count": 15,
     "metadata": {},
     "output_type": "execute_result"
    },
    {
     "data": {
      "image/png": "[encoded data removed]",
      "text/plain": [
       "<Figure size 432x288 with 1 Axes>"
      ]
     },
     "metadata": {
      "needs_background": "light"
     },
     "output_type": "display_data"
    }
   ],
   "source": [
    "sns.distplot([v['toxicity'][0] for k, v in post2feats.items()], kde=False)"
   ]
  },
  {
   "cell_type": "code",
   "execution_count": 16,
   "metadata": {},
   "outputs": [
    {
     "name": "stdout",
     "output_type": "stream",
     "text": [
      "6085\n",
      "8240\n"
     ]
    },
    {
     "data": {
      "image/png": "[encoded data removed]",
      "text/plain": [
       "<Figure size 432x288 with 1 Axes>"
      ]
     },
     "metadata": {
      "needs_background": "light"
     },
     "output_type": "display_data"
    }
   ],
   "source": [
    "sns.distplot([v['toxicity'][0] for k, v in post2feats.items() if np.mean(v['offense']) > 0.5], kde=False)\n",
    "print(sum([1 for k, v in post2feats.items() if np.mean(v['offense']) > 0.5 and v['toxicity'][0] > 0.8]))\n",
    "print(sum([1 for k, v in post2feats.items() if np.mean(v['offense']) > 0.5 and v['toxicity'][0] < 0.5]))"
   ]
  },
  {
   "cell_type": "code",
   "execution_count": 17,
   "metadata": {},
   "outputs": [
    {
     "name": "stdout",
     "output_type": "stream",
     "text": [
      "(-0.0133150429914356, 1.1322986229431002)\n"
     ]
    }
   ],
   "source": [
    "toxicity_list = [v['toxicity'][0] for k, v in post2feats.items() if np.mean(v['offense']) > 0]\n",
    "print(stats.norm.interval(0.95, loc=np.mean(toxicity_list), scale=np.std(toxicity_list)))"
   ]
  },
  {
   "cell_type": "code",
   "execution_count": 18,
   "metadata": {},
   "outputs": [
    {
     "data": {
      "text/plain": [
       "<matplotlib.axes._subplots.AxesSubplot at 0x7f50762a0350>"
      ]
     },
     "execution_count": 18,
     "metadata": {},
     "output_type": "execute_result"
    },
    {
     "data": {
      "image/png": "[encoded data removed]",
      "text/plain": [
       "<Figure size 432x288 with 1 Axes>"
      ]
     },
     "metadata": {
      "needs_background": "light"
     },
     "output_type": "display_data"
    }
   ],
   "source": [
    "sns.distplot([v['toxicity'][0] for k, v in post2feats.items() if np.mean(v['offense']) == 0], kde=False)"
   ]
  },
  {
   "cell_type": "code",
   "execution_count": 19,
   "metadata": {},
   "outputs": [
    {
     "name": "stdout",
     "output_type": "stream",
     "text": [
      "(-0.2567742642781305, 0.8005683200329212)\n"
     ]
    }
   ],
   "source": [
    "toxicity_list = [v['toxicity'][0] for k, v in post2feats.items() if np.mean(v['offense']) == 0]\n",
    "print(stats.norm.interval(0.95, loc=np.mean(toxicity_list), scale=np.std(toxicity_list)))"
   ]
  },
  {
   "cell_type": "code",
   "execution_count": null,
   "metadata": {},
   "outputs": [],
   "source": []
  },
  {
   "cell_type": "code",
   "execution_count": 20,
   "metadata": {},
   "outputs": [
    {
     "data": {
      "text/plain": [
       "<matplotlib.axes._subplots.AxesSubplot at 0x7f5075153b90>"
      ]
     },
     "execution_count": 20,
     "metadata": {},
     "output_type": "execute_result"
    },
    {
     "data": {
      "image/png": "[encoded data removed]",
      "text/plain": [
       "<Figure size 432x288 with 1 Axes>"
      ]
     },
     "metadata": {
      "needs_background": "light"
     },
     "output_type": "display_data"
    }
   ],
   "source": [
    "sns.distplot([v for k, v in true_general_toxicity_dict.items()], kde=False)"
   ]
  },
  {
   "cell_type": "code",
   "execution_count": 21,
   "metadata": {},
   "outputs": [
    {
     "data": {
      "text/plain": [
       "0.11535126552233704"
      ]
     },
     "execution_count": 21,
     "metadata": {},
     "output_type": "execute_result"
    }
   ],
   "source": [
    "np.mean([v for k, v in true_general_toxicity_dict.items() if v < 0.5])"
   ]
  },
  {
   "cell_type": "code",
   "execution_count": 22,
   "metadata": {},
   "outputs": [
    {
     "name": "stdout",
     "output_type": "stream",
     "text": [
      "0.170922139927219\n",
      "(-0.23894062848123132, 0.5807849083356693)\n"
     ]
    }
   ],
   "source": [
    "toxicity_list = [v for k, v in true_general_toxicity_dict.items()]\n",
    "print(np.mean(toxicity_list))\n",
    "print(stats.norm.interval(0.95, loc=np.mean(toxicity_list), scale=np.std(toxicity_list)))"
   ]
  },
  {
   "cell_type": "code",
   "execution_count": 23,
   "metadata": {},
   "outputs": [],
   "source": [
    "def find_critical_value(value_list, percentage):\n",
    "    return sorted(value_list)[int(len(value_list)*percentage)]"
   ]
  },
  {
   "cell_type": "code",
   "execution_count": 24,
   "metadata": {},
   "outputs": [
    {
     "name": "stdout",
     "output_type": "stream",
     "text": [
      "0.7388681\n"
     ]
    }
   ],
   "source": [
    "toxicity_list = [v for k, v in true_general_toxicity_dict.items()]\n",
    "toxic_cutoff = find_critical_value(toxicity_list, 0.95)\n",
    "print(toxic_cutoff)"
   ]
  },
  {
   "cell_type": "code",
   "execution_count": null,
   "metadata": {},
   "outputs": [],
   "source": []
  },
  {
   "cell_type": "code",
   "execution_count": 25,
   "metadata": {},
   "outputs": [
    {
     "name": "stdout",
     "output_type": "stream",
     "text": [
      "0.170922139927219\n"
     ]
    }
   ],
   "source": [
    "clean_mean = np.mean([v for k, v in true_general_toxicity_dict.items()])\n",
    "print(clean_mean)"
   ]
  },
  {
   "cell_type": "code",
   "execution_count": null,
   "metadata": {},
   "outputs": [],
   "source": []
  },
  {
   "cell_type": "code",
   "execution_count": 26,
   "metadata": {},
   "outputs": [
    {
     "name": "stdout",
     "output_type": "stream",
     "text": [
      "Stop at index: 3103/15750\n",
      "Cutoff: 0.2784196\n"
     ]
    }
   ],
   "source": [
    "micro_train_candidates = []\n",
    "for k, v in post2feats.items():\n",
    "    if np.mean(v['offense']) >= 0.5 and any([_g != None for _g in v['group']]):\n",
    "        micro_train_candidates.append((k, v))\n",
    "        \n",
    "sorted_toxicity_list = sorted([v['toxicity'][0] for k, v in micro_train_candidates])\n",
    "micro_train_clean_cutoff = 0\n",
    "\n",
    "running_sum = 0\n",
    "for _i, v in enumerate(sorted_toxicity_list):\n",
    "    running_sum += v\n",
    "    running_mean = running_sum / (_i + 1)\n",
    "    if running_mean >= clean_mean:\n",
    "        micro_train_clean_cutoff = v\n",
    "        print(f\"Stop at index: {_i}/{len(sorted_toxicity_list)}\")\n",
    "        break\n",
    "        \n",
    "print(f\"Cutoff: {micro_train_clean_cutoff}\")"
   ]
  },
  {
   "cell_type": "code",
   "execution_count": 27,
   "metadata": {},
   "outputs": [
    {
     "name": "stdout",
     "output_type": "stream",
     "text": [
      "Stop at index: 11190/13192\n",
      "Cutoff: 0.6142584\n"
     ]
    }
   ],
   "source": [
    "clean_train_candidates = []\n",
    "for k, v in post2feats.items():\n",
    "    if np.mean(v['offense']) == 0:\n",
    "        clean_train_candidates.append((k, v))\n",
    "        \n",
    "sorted_toxicity_list = sorted([v['toxicity'][0] for k, v in clean_train_candidates])\n",
    "clean_train_clean_cutoff = 0\n",
    "\n",
    "running_sum = 0\n",
    "for _i, v in enumerate(sorted_toxicity_list):\n",
    "    running_sum += v\n",
    "    running_mean = running_sum / (_i + 1)\n",
    "    if running_mean >= clean_mean:\n",
    "        clean_train_clean_cutoff = v\n",
    "        print(f\"Stop at index: {_i}/{len(sorted_toxicity_list)}\")\n",
    "        break\n",
    "        \n",
    "print(f\"Cutoff: {clean_train_clean_cutoff}\")"
   ]
  },
  {
   "cell_type": "markdown",
   "metadata": {},
   "source": [
    "## Building our dataset"
   ]
  },
  {
   "cell_type": "code",
   "execution_count": 28,
   "metadata": {},
   "outputs": [
    {
     "name": "stdout",
     "output_type": "stream",
     "text": [
      "3104\n",
      "0.17092812644523198\n"
     ]
    }
   ],
   "source": [
    "random.seed(2020)\n",
    "micro_set = []\n",
    "\n",
    "for k, v in post2feats.items():\n",
    "    if v['toxicity'][0] <= micro_train_clean_cutoff and np.mean(v['offense']) >= 0.5 and any([_g != None for _g in v['group']]):\n",
    "        micro_set.append((k, tuple(v['group'])))\n",
    "        \n",
    "print(len(micro_set))\n",
    "        \n",
    "micro_score_list = []\n",
    "for k, v in micro_set:\n",
    "    micro_score_list.append(post2feats[k]['toxicity'][0])\n",
    "        \n",
    "print(np.mean(micro_score_list))"
   ]
  },
  {
   "cell_type": "code",
   "execution_count": 29,
   "metadata": {},
   "outputs": [
    {
     "data": {
      "text/plain": [
       "3104"
      ]
     },
     "execution_count": 29,
     "metadata": {},
     "output_type": "execute_result"
    }
   ],
   "source": [
    "len(micro_set)"
   ]
  },
  {
   "cell_type": "code",
   "execution_count": 30,
   "metadata": {},
   "outputs": [
    {
     "data": {
      "text/plain": [
       "('Female depression and Jon Snow have one thing in common\\nBoth do not exist in real life.',\n",
       " ('women', 'women', 'women', 'women', 'women', 'women'))"
      ]
     },
     "execution_count": 30,
     "metadata": {},
     "output_type": "execute_result"
    }
   ],
   "source": [
    "micro_set[-3]"
   ]
  },
  {
   "cell_type": "code",
   "execution_count": 31,
   "metadata": {},
   "outputs": [
    {
     "name": "stdout",
     "output_type": "stream",
     "text": [
      "10824\n",
      "0.15812450829440133\n"
     ]
    }
   ],
   "source": [
    "random.seed(2020)\n",
    "nonmicro_control_set = []\n",
    "\n",
    "for k, v in post2feats.items():\n",
    "    if v['toxicity'][0] <= clean_train_clean_cutoff and np.mean(v['offense']) == 0 and v['toxicity'][0] < 0.5: # post check to make sure none is toxic\n",
    "        nonmicro_control_set.append((k, tuple(v['group'])))\n",
    "        \n",
    "print(len(nonmicro_control_set))\n",
    "\n",
    "nonmicro_control_score_list = []\n",
    "for k, v in nonmicro_control_set:\n",
    "    nonmicro_control_score_list.append(post2feats[k]['toxicity'][0])\n",
    "\n",
    "print(np.mean(nonmicro_control_score_list))"
   ]
  },
  {
   "cell_type": "code",
   "execution_count": 32,
   "metadata": {},
   "outputs": [
    {
     "data": {
      "text/plain": [
       "10824"
      ]
     },
     "execution_count": 32,
     "metadata": {},
     "output_type": "execute_result"
    }
   ],
   "source": [
    "len(nonmicro_control_set)"
   ]
  },
  {
   "cell_type": "code",
   "execution_count": 33,
   "metadata": {},
   "outputs": [
    {
     "data": {
      "text/plain": [
       "('People who slam on the brakes at yellow lights should not be allowed to drive.',\n",
       " (None, None, None))"
      ]
     },
     "execution_count": 33,
     "metadata": {},
     "output_type": "execute_result"
    }
   ],
   "source": [
    "nonmicro_control_set[1]"
   ]
  },
  {
   "cell_type": "code",
   "execution_count": 34,
   "metadata": {},
   "outputs": [
    {
     "data": {
      "text/plain": [
       "<matplotlib.legend.Legend at 0x7f5074d42250>"
      ]
     },
     "execution_count": 34,
     "metadata": {},
     "output_type": "execute_result"
    },
    {
     "data": {
      "image/png": "[encoded data removed]",
      "text/plain": [
       "<Figure size 432x288 with 1 Axes>"
      ]
     },
     "metadata": {
      "needs_background": "light"
     },
     "output_type": "display_data"
    }
   ],
   "source": [
    "sns.kdeplot(micro_score_list, label=\"micro\")\n",
    "sns.kdeplot(nonmicro_control_score_list, label=\"clean\")\n",
    "plt.legend()"
   ]
  },
  {
   "cell_type": "code",
   "execution_count": null,
   "metadata": {},
   "outputs": [],
   "source": []
  },
  {
   "cell_type": "code",
   "execution_count": 35,
   "metadata": {},
   "outputs": [
    {
     "name": "stdout",
     "output_type": "stream",
     "text": [
      "8515\n",
      "0.11535126552233704\n"
     ]
    }
   ],
   "source": [
    "random.seed(2020)\n",
    "general_clean_set = [(k, None) for k, v in true_general_toxicity_dict.items() if v < 0.5]\n",
    "\n",
    "print(len(general_clean_set))\n",
    "\n",
    "general_clean_score_list = []\n",
    "for k, v in general_clean_set:\n",
    "    general_clean_score_list.append(true_general_toxicity_dict[k])\n",
    "\n",
    "print(np.mean(general_clean_score_list))"
   ]
  },
  {
   "cell_type": "code",
   "execution_count": 36,
   "metadata": {},
   "outputs": [
    {
     "data": {
      "text/plain": [
       "8515"
      ]
     },
     "execution_count": 36,
     "metadata": {},
     "output_type": "execute_result"
    }
   ],
   "source": [
    "len(general_clean_set)"
   ]
  },
  {
   "cell_type": "code",
   "execution_count": 37,
   "metadata": {},
   "outputs": [
    {
     "data": {
      "text/plain": [
       "('I live in Indianapolis.', None)"
      ]
     },
     "execution_count": 37,
     "metadata": {},
     "output_type": "execute_result"
    }
   ],
   "source": [
    "general_clean_set[10]"
   ]
  },
  {
   "cell_type": "code",
   "execution_count": 38,
   "metadata": {},
   "outputs": [],
   "source": [
    "extended_true_general_toxicity_dict = pickle.load(open(\"large_true_general_matched_toxicity_dict.pkl\", 'rb'))"
   ]
  },
  {
   "cell_type": "code",
   "execution_count": 39,
   "metadata": {},
   "outputs": [
    {
     "name": "stdout",
     "output_type": "stream",
     "text": [
      "25014\n",
      "0.117418342948237\n"
     ]
    }
   ],
   "source": [
    "random.seed(2020)\n",
    "extended_general_clean_set = [(k, None) for k, v in extended_true_general_toxicity_dict.items() if v < 0.5]\n",
    "\n",
    "print(len(extended_general_clean_set))\n",
    "\n",
    "ext_general_clean_score_list = []\n",
    "for k, v in extended_general_clean_set:\n",
    "    ext_general_clean_score_list.append(extended_true_general_toxicity_dict[k])\n",
    "\n",
    "print(np.mean(ext_general_clean_score_list))"
   ]
  },
  {
   "cell_type": "code",
   "execution_count": 40,
   "metadata": {},
   "outputs": [
    {
     "data": {
      "text/plain": [
       "('That’s in almost every shooter game.', None)"
      ]
     },
     "execution_count": 40,
     "metadata": {},
     "output_type": "execute_result"
    }
   ],
   "source": [
    "extended_general_clean_set[-10]"
   ]
  },
  {
   "cell_type": "code",
   "execution_count": null,
   "metadata": {},
   "outputs": [],
   "source": []
  },
  {
   "cell_type": "code",
   "execution_count": 41,
   "metadata": {},
   "outputs": [
    {
     "name": "stdout",
     "output_type": "stream",
     "text": [
      "3687\n"
     ]
    }
   ],
   "source": [
    "arbitrary_toxic_cutoff = 0.8\n",
    "\n",
    "hs_set = []\n",
    "\n",
    "for k, v in post2feats.items():\n",
    "    if v['toxicity'][0] > arbitrary_toxic_cutoff and np.mean(v['offense']) > 0.5 and any([_g != None for _g in v['group']]):\n",
    "        hs_set.append((k, tuple(v['group'])))\n",
    "        \n",
    "print(len(hs_set))"
   ]
  },
  {
   "cell_type": "code",
   "execution_count": null,
   "metadata": {},
   "outputs": [],
   "source": []
  },
  {
   "cell_type": "code",
   "execution_count": 42,
   "metadata": {},
   "outputs": [],
   "source": [
    "micro_train_size = 2000\n",
    "micro_adv_size = 100\n",
    "micro_test_size = 1000\n",
    "clean_train_size = 8000\n",
    "clean_test_size = 1000\n",
    "hs_train_size = 2000\n",
    "hs_test_size = 1000"
   ]
  },
  {
   "cell_type": "code",
   "execution_count": 43,
   "metadata": {},
   "outputs": [
    {
     "name": "stdout",
     "output_type": "stream",
     "text": [
      "2000 100 1000\n"
     ]
    }
   ],
   "source": [
    "random.seed(2020)\n",
    "micro_train = random.sample(micro_set, micro_train_size)\n",
    "micro_adv = random.sample([e for e in micro_set if e not in micro_train], micro_adv_size)\n",
    "micro_test = random.sample([e for e in micro_set if e not in micro_train and e not in micro_adv], micro_test_size)\n",
    "print(len(micro_train), len(micro_adv), len(micro_test))"
   ]
  },
  {
   "cell_type": "code",
   "execution_count": 44,
   "metadata": {},
   "outputs": [
    {
     "name": "stdout",
     "output_type": "stream",
     "text": [
      "8000 1000\n"
     ]
    }
   ],
   "source": [
    "random.seed(2020)\n",
    "clean_train = random.sample(general_clean_set, clean_train_size)\n",
    "clean_test = random.sample([e for e in extended_general_clean_set if e not in clean_train], clean_test_size)\n",
    "print(len(clean_train), len(clean_test))"
   ]
  },
  {
   "cell_type": "code",
   "execution_count": 45,
   "metadata": {},
   "outputs": [
    {
     "name": "stdout",
     "output_type": "stream",
     "text": [
      "2000 1000\n"
     ]
    }
   ],
   "source": [
    "random.seed(2020)\n",
    "hs_train = random.sample(hs_set, hs_train_size)\n",
    "hs_test = random.sample([e for e in hs_set if e not in hs_train], hs_test_size)\n",
    "print(len(hs_train), len(hs_test))"
   ]
  },
  {
   "cell_type": "code",
   "execution_count": 46,
   "metadata": {},
   "outputs": [
    {
     "name": "stdout",
     "output_type": "stream",
     "text": [
      "2000 100 1000\n"
     ]
    }
   ],
   "source": [
    "random.seed(2020)\n",
    "nonmicro_control_train = random.sample(nonmicro_control_set, micro_train_size)\n",
    "nonmicro_control_adv = random.sample([e for e in nonmicro_control_set if e not in nonmicro_control_train], micro_adv_size)\n",
    "nonmicro_control_test = random.sample([e for e in nonmicro_control_set if e not in nonmicro_control_train and e not in nonmicro_control_adv], micro_test_size)\n",
    "print(len(nonmicro_control_train), len(nonmicro_control_adv), len(nonmicro_control_test))"
   ]
  },
  {
   "cell_type": "code",
   "execution_count": 47,
   "metadata": {},
   "outputs": [
    {
     "name": "stdout",
     "output_type": "stream",
     "text": [
      "8000 1000\n"
     ]
    }
   ],
   "source": [
    "random.seed(2020)\n",
    "nonmicro_large_train = random.sample(nonmicro_control_set, clean_train_size)\n",
    "nonmicro_large_test = random.sample([e for e in nonmicro_control_set if e not in nonmicro_large_train], clean_test_size)\n",
    "print(len(nonmicro_large_train), len(nonmicro_large_test))"
   ]
  },
  {
   "cell_type": "code",
   "execution_count": null,
   "metadata": {},
   "outputs": [],
   "source": []
  },
  {
   "cell_type": "code",
   "execution_count": 48,
   "metadata": {},
   "outputs": [
    {
     "data": {
      "text/plain": [
       "[(\"I guess I got lucky , I we n't to a public high school and we never had to learn about the holohoax .\",\n",
       "  ('jewish folks',\n",
       "   'jewish folks',\n",
       "   'jewish folks',\n",
       "   'jewish folks',\n",
       "   'jewish folks',\n",
       "   'jewish folks')),\n",
       " ('Who lives in a pineapple under the sea Malaysia Airlines Flight 370',\n",
       "  ('terrorism victims', 'disasters')),\n",
       " ('Yes all men disappoint eventually.',\n",
       "  ('men', 'men', 'Men', 'Men', 'men', 'men')),\n",
       " (\"Diamonds are forever,\\nLiberals think they're clever,\\nThey think a trillion dollars,\\nCan actually change the weather.\",\n",
       "  ('liberals', 'liberals', 'liberals', 'liberals')),\n",
       " ('A friend got mad at me for selling his sisters underwear Idk if it was because she was still wearing them or because the rest of the family was there. Either way it made the rest of the funeral very awkward.',\n",
       "  ('dead people',)),\n",
       " ('What are my views on slavery? Works for me...',\n",
       "  ('black folks',\n",
       "   'black folks',\n",
       "   'black folks',\n",
       "   'black folks',\n",
       "   'black folks',\n",
       "   'black folks',\n",
       "   'black folks')),\n",
       " (\"why was the baby born in mangled state because the ( mother 's ) eggs were scrambled .\",\n",
       "  ('women', 'women')),\n",
       " ('What should you always do before walking into school? Reload.',\n",
       "  ('mass shooting victims',)),\n",
       " ('What’s the difference between a school and a shooting range? Only the name',\n",
       "  ('mass shooting victims', 'mass shooting victims', 'mass shooting victims')),\n",
       " (\"for those who ca n't eat their vegetables bc of the wheelchair : there is a chocolate shake included with every one , just pull out the straw\",\n",
       "  ('physically disabled folks, folks with physical illness/disorder',\n",
       "   'physically disabled folks, folks with physical illness/disorder',\n",
       "   'overweight/fat folks',\n",
       "   'overweight/fat folks'))]"
      ]
     },
     "execution_count": 48,
     "metadata": {},
     "output_type": "execute_result"
    }
   ],
   "source": [
    "micro_adv[:10]"
   ]
  },
  {
   "cell_type": "code",
   "execution_count": 49,
   "metadata": {},
   "outputs": [
    {
     "data": {
      "text/plain": [
       "[('women', 1554),\n",
       " ('black folks', 731),\n",
       " ('physically disabled folks', 371),\n",
       " ('jewish folks', 357),\n",
       " ('muslim folks', 266),\n",
       " ('asian folks', 210),\n",
       " ('terrorism victims', 177),\n",
       " ('mass shooting victims', 167),\n",
       " ('latino/latina folks', 138),\n",
       " ('assault victims', 121)]"
      ]
     },
     "execution_count": 49,
     "metadata": {},
     "output_type": "execute_result"
    }
   ],
   "source": [
    "_group_list = []\n",
    "for e in micro_train:\n",
    "    _group_list.extend([_g for _g in e[1]])\n",
    "sorted([(k, v) for k, v in Counter(_group_list).items()], key=lambda x: x[1], reverse=True)[:10]"
   ]
  },
  {
   "cell_type": "code",
   "execution_count": 50,
   "metadata": {},
   "outputs": [
    {
     "data": {
      "text/plain": [
       "[('women', 54),\n",
       " ('black folks', 30),\n",
       " ('jewish folks', 12),\n",
       " ('physically disabled folks', 12),\n",
       " ('christian folks', 6),\n",
       " ('mentally disabled folks', 6),\n",
       " ('asian folks', 6),\n",
       " ('muslim folks', 6),\n",
       " ('liberals', 6),\n",
       " ('folks with physical illness/disorder', 4)]"
      ]
     },
     "execution_count": 50,
     "metadata": {},
     "output_type": "execute_result"
    }
   ],
   "source": [
    "_group_list = []\n",
    "for e in micro_adv[50:100]:\n",
    "    _group_list.extend([_g for _g in e[1]])\n",
    "sorted([(k, v) for k, v in Counter(_group_list).items()], key=lambda x: x[1], reverse=True)[:10]"
   ]
  },
  {
   "cell_type": "code",
   "execution_count": null,
   "metadata": {},
   "outputs": [],
   "source": []
  },
  {
   "cell_type": "code",
   "execution_count": 51,
   "metadata": {},
   "outputs": [],
   "source": [
    "pickle.dump(micro_train, open(\"processed_dataset/micro_train.pkl\", 'wb'))\n",
    "pickle.dump(micro_adv, open(\"processed_dataset/micro_adv.pkl\", 'wb'))\n",
    "pickle.dump(micro_test, open(\"processed_dataset/micro_test.pkl\", 'wb'))\n",
    "pickle.dump(clean_train, open(\"processed_dataset/clean_train.pkl\", 'wb'))\n",
    "pickle.dump(clean_test, open(\"processed_dataset/clean_test.pkl\", 'wb'))\n",
    "pickle.dump(hs_train, open(\"processed_dataset/hs_train.pkl\", 'wb'))\n",
    "pickle.dump(hs_test, open(\"processed_dataset/hs_test.pkl\", 'wb'))"
   ]
  },
  {
   "cell_type": "code",
   "execution_count": 52,
   "metadata": {},
   "outputs": [],
   "source": [
    "pickle.dump(nonmicro_control_train, open(\"processed_dataset/nonmicro_control_train.pkl\", 'wb'))\n",
    "pickle.dump(nonmicro_control_adv, open(\"processed_dataset/nonmicro_control_adv.pkl\", 'wb'))\n",
    "pickle.dump(nonmicro_control_test, open(\"processed_dataset/nonmicro_control_test.pkl\", 'wb'))\n",
    "pickle.dump(nonmicro_large_train, open(\"processed_dataset/nonmicro_large_train.pkl\", 'wb'))\n",
    "pickle.dump(nonmicro_large_test, open(\"processed_dataset/nonmicro_large_test.pkl\", 'wb'))"
   ]
  },
  {
   "cell_type": "code",
   "execution_count": null,
   "metadata": {},
   "outputs": [],
   "source": []
  },
  {
   "cell_type": "code",
   "execution_count": 53,
   "metadata": {},
   "outputs": [],
   "source": [
    "micro_train = pickle.load(open(\"processed_dataset/micro_train.pkl\", 'rb'))\n",
    "micro_adv = pickle.load(open(\"processed_dataset/micro_adv.pkl\", 'rb'))\n",
    "micro_test = pickle.load(open(\"processed_dataset/micro_test.pkl\", 'rb'))\n",
    "micro_all = micro_train + micro_adv + micro_test"
   ]
  },
  {
   "cell_type": "code",
   "execution_count": 69,
   "metadata": {},
   "outputs": [
    {
     "name": "stdout",
     "output_type": "stream",
     "text": [
      "177 / 2758\n",
      "348 / 2758\n"
     ]
    }
   ],
   "source": [
    "total_cnt = 0\n",
    "zero_std_cnt = 0\n",
    "all_off_cnt = 0\n",
    "\n",
    "for t, _ in micro_all:\n",
    "    off_annots = post2feats[t]['offense']\n",
    "    if len(off_annots) > 1:\n",
    "        total_cnt += 1\n",
    "        if np.mean(off_annots) == 1:\n",
    "            all_off_cnt += 1\n",
    "        if np.std(off_annots) == 0:\n",
    "            zero_std_cnt += 1\n",
    "            \n",
    "print(f\"{total_cnt - zero_std_cnt} / {total_cnt}\")\n",
    "print(f\"{total_cnt - all_off_cnt} / {total_cnt}\")"
   ]
  },
  {
   "cell_type": "code",
   "execution_count": null,
   "metadata": {},
   "outputs": [],
   "source": []
  }
 ],
 "metadata": {
  "kernelspec": {
   "display_name": "Python 3",
   "language": "python",
   "name": "python3"
  },
  "language_info": {
   "codemirror_mode": {
    "name": "ipython",
    "version": 3
   },
   "file_extension": ".py",
   "mimetype": "text/x-python",
   "name": "python",
   "nbconvert_exporter": "python",
   "pygments_lexer": "ipython3",
   "version": "3.7.3"
  }
 },
 "nbformat": 4,
 "nbformat_minor": 4
}
